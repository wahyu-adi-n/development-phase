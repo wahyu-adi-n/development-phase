{
 "cells": [
  {
   "cell_type": "markdown",
   "id": "293a7866",
   "metadata": {},
   "source": [
    "# Coding Test Staf AI Researcher PT Delameta Bilano"
   ]
  },
  {
   "cell_type": "markdown",
   "id": "def48335",
   "metadata": {},
   "source": [
    "## 1. Load & Get Data and Libraries"
   ]
  },
  {
   "cell_type": "code",
   "execution_count": 1,
   "id": "a25bd91f",
   "metadata": {},
   "outputs": [],
   "source": [
    "import torch\n",
    "import requests\n",
    "import zipfile\n",
    "import os\n",
    "import matplotlib.pyplot as plt\n",
    "import time\n",
    "import numpy as np\n",
    "from pathlib import Path\n",
    "from torchvision import transforms as T\n",
    "from torchvision import datasets\n",
    "from torch.utils.data import DataLoader\n",
    "from tqdm.auto import tqdm\n",
    "from timeit import default_timer as timer\n",
    "from torchmetrics import ConfusionMatrix\n",
    "from mlxtend.plotting import plot_confusion_matrix\n",
    "\n",
    "device = torch.device('cuda:0' if torch.cuda.is_available() else 'cpu')"
   ]
  },
  {
   "cell_type": "code",
   "execution_count": 2,
   "id": "e352e5d5",
   "metadata": {},
   "outputs": [
    {
     "name": "stdout",
     "output_type": "stream",
     "text": [
      "data directory not found. Try to create it first!\n"
     ]
    }
   ],
   "source": [
    "data_path = Path('data/')\n",
    "\n",
    "if data_path.is_dir():\n",
    "    print(f'{data_path} directory is exist!')\n",
    "else:\n",
    "    print(f'{data_path} directory not found. Try to create it first!')\n",
    "    data_path.mkdir(parents=True, exist_ok=True)\n",
    "        \n",
    "    with zipfile.ZipFile('train.zip', 'r') as zip_train:\n",
    "        zip_train.extractall(data_path)\n",
    "        \n",
    "    with zipfile.ZipFile('test.zip', 'r') as zip_test:\n",
    "        zip_test.extractall(data_path)\n",
    "    \n",
    "os.remove('train.zip')\n",
    "os.remove('test.zip')"
   ]
  },
  {
   "cell_type": "markdown",
   "id": "6e799922",
   "metadata": {},
   "source": [
    "## 2. Data Transformation and Preparation"
   ]
  },
  {
   "cell_type": "code",
   "execution_count": 3,
   "id": "6b70b4e5",
   "metadata": {},
   "outputs": [
    {
     "data": {
      "text/plain": [
       "(WindowsPath('data/train'), WindowsPath('data/test'))"
      ]
     },
     "execution_count": 3,
     "metadata": {},
     "output_type": "execute_result"
    }
   ],
   "source": [
    "train_dir = data_path / 'train'\n",
    "test_dir = data_path / 'test'\n",
    "\n",
    "train_dir, test_dir"
   ]
  },
  {
   "cell_type": "markdown",
   "id": "47e4f799",
   "metadata": {},
   "source": [
    "### 2.1 Data Augmentation"
   ]
  },
  {
   "cell_type": "code",
   "execution_count": 4,
   "id": "0ef1cf39",
   "metadata": {},
   "outputs": [],
   "source": [
    "train_transforms = T.Compose([\n",
    "    T.RandomHorizontalFlip(),\n",
    "    T.RandomRotation(15),\n",
    "    T.ToTensor(),\n",
    "    T.Normalize(mean = [0.485, 0.456, 0.406],\n",
    "                std = [0.229, 0.224, 0.225])\n",
    "])\n",
    "\n",
    "test_transforms = T.Compose([\n",
    "    T.ToTensor(),\n",
    "    T.Normalize(mean = [0.485, 0.456, 0.406],\n",
    "                std = [0.229, 0.224, 0.225])\n",
    "])"
   ]
  },
  {
   "cell_type": "markdown",
   "id": "ce227beb",
   "metadata": {},
   "source": [
    "### 2.2 Dataset Preparation"
   ]
  },
  {
   "cell_type": "code",
   "execution_count": 5,
   "id": "265effa7",
   "metadata": {},
   "outputs": [
    {
     "data": {
      "text/plain": [
       "(2800, 200)"
      ]
     },
     "execution_count": 5,
     "metadata": {},
     "output_type": "execute_result"
    }
   ],
   "source": [
    "train_data = datasets.ImageFolder(train_dir, \n",
    "                                  transform = train_transforms, \n",
    "                                  target_transform=None)\n",
    "\n",
    "test_data = datasets.ImageFolder(test_dir, \n",
    "                                 transform = test_transforms)\n",
    "\n",
    "len(train_data), len(test_data)"
   ]
  },
  {
   "cell_type": "code",
   "execution_count": 6,
   "id": "00ddff79",
   "metadata": {},
   "outputs": [
    {
     "data": {
      "text/plain": [
       "['airplane',\n",
       " 'automobile',\n",
       " 'bird',\n",
       " 'cat',\n",
       " 'deer',\n",
       " 'dog',\n",
       " 'frog',\n",
       " 'horse',\n",
       " 'ship',\n",
       " 'truck']"
      ]
     },
     "execution_count": 6,
     "metadata": {},
     "output_type": "execute_result"
    }
   ],
   "source": [
    "class_names = train_data.classes\n",
    "class_names"
   ]
  },
  {
   "cell_type": "code",
   "execution_count": 7,
   "id": "e832b324",
   "metadata": {},
   "outputs": [
    {
     "data": {
      "text/plain": [
       "{'airplane': 0,\n",
       " 'automobile': 1,\n",
       " 'bird': 2,\n",
       " 'cat': 3,\n",
       " 'deer': 4,\n",
       " 'dog': 5,\n",
       " 'frog': 6,\n",
       " 'horse': 7,\n",
       " 'ship': 8,\n",
       " 'truck': 9}"
      ]
     },
     "execution_count": 7,
     "metadata": {},
     "output_type": "execute_result"
    }
   ],
   "source": [
    "data_dict = train_data.class_to_idx\n",
    "data_dict"
   ]
  },
  {
   "cell_type": "code",
   "execution_count": 8,
   "id": "ffef7cb6",
   "metadata": {},
   "outputs": [
    {
     "data": {
      "text/plain": [
       "{0: 'airplane',\n",
       " 1: 'automobile',\n",
       " 2: 'bird',\n",
       " 3: 'cat',\n",
       " 4: 'deer',\n",
       " 5: 'dog',\n",
       " 6: 'frog',\n",
       " 7: 'horse',\n",
       " 8: 'ship',\n",
       " 9: 'truck'}"
      ]
     },
     "execution_count": 8,
     "metadata": {},
     "output_type": "execute_result"
    }
   ],
   "source": [
    "data_dict_inverse = {v:k for k, v in data_dict.items()}\n",
    "data_dict_inverse"
   ]
  },
  {
   "cell_type": "markdown",
   "id": "5b58aceb",
   "metadata": {},
   "source": [
    "### 2.3 Turn Dataset to Dataloader"
   ]
  },
  {
   "cell_type": "code",
   "execution_count": 9,
   "id": "e903d5eb",
   "metadata": {},
   "outputs": [
    {
     "data": {
      "text/plain": [
       "(<torch.utils.data.dataloader.DataLoader at 0x2b69c6d25e0>,\n",
       " <torch.utils.data.dataloader.DataLoader at 0x2b6c38365e0>)"
      ]
     },
     "execution_count": 9,
     "metadata": {},
     "output_type": "execute_result"
    }
   ],
   "source": [
    "train_dataloader = DataLoader(train_data, \n",
    "                              batch_size=32,\n",
    "                              shuffle=True,\n",
    "                              num_workers = 2,\n",
    "                              pin_memory=True)\n",
    "\n",
    "test_dataloader = DataLoader(test_data, \n",
    "                              batch_size=32,\n",
    "                              shuffle=False,\n",
    "                              num_workers = 2,\n",
    "                              pin_memory=True)\n",
    "\n",
    "train_dataloader, test_dataloader"
   ]
  },
  {
   "cell_type": "markdown",
   "id": "9b94bf45",
   "metadata": {},
   "source": [
    "### 2.4 Saving & Loading Datasets and Dataloaders"
   ]
  },
  {
   "cell_type": "code",
   "execution_count": 10,
   "id": "d432d5b8",
   "metadata": {},
   "outputs": [],
   "source": [
    "root_dir = 'data/'\n",
    "torch.save(train_data, data_path / 'train_data.pkl')\n",
    "torch.save(test_data, data_path / 'test_data.pkl')\n",
    "torch.save(train_dataloader, data_path / 'train_dataloader.pkl')\n",
    "torch.save(test_dataloader, data_path / 'test_dataloader.pkl')"
   ]
  },
  {
   "cell_type": "code",
   "execution_count": 11,
   "id": "02e261c9",
   "metadata": {},
   "outputs": [],
   "source": [
    "train_data = torch.load(root_dir + 'train_data.pkl')\n",
    "test_data = torch.load(root_dir + 'test_data.pkl')\n",
    "train_dataloader = torch.load(root_dir + 'train_dataloader.pkl')\n",
    "test_dataloader = torch.load(root_dir + 'test_dataloader.pkl')"
   ]
  },
  {
   "cell_type": "code",
   "execution_count": 12,
   "id": "8b5b2328",
   "metadata": {},
   "outputs": [
    {
     "data": {
      "text/plain": [
       "(tensor([[[-2.1179, -2.1179,  0.5364,  ..., -2.1179, -2.1179, -2.1179],\n",
       "          [-2.1179, -2.1179,  0.4679,  ..., -2.1179, -2.1179, -2.1179],\n",
       "          [-2.1179, -2.1179,  0.4679,  ...,  1.2214,  1.3242,  1.3242],\n",
       "          ...,\n",
       "          [-1.0733, -1.0904, -1.0390,  ..., -0.5424, -2.1179, -2.1179],\n",
       "          [-2.1179, -2.1179, -2.1179,  ..., -0.7308, -2.1179, -2.1179],\n",
       "          [-2.1179, -2.1179, -2.1179,  ..., -0.9705, -2.1179, -2.1179]],\n",
       " \n",
       "         [[-2.0357, -2.0357,  0.6604,  ..., -2.0357, -2.0357, -2.0357],\n",
       "          [-2.0357, -2.0357,  0.6604,  ..., -2.0357, -2.0357, -2.0357],\n",
       "          [-2.0357, -2.0357,  0.6604,  ...,  1.3782,  1.4132,  1.3957],\n",
       "          ...,\n",
       "          [-1.0203, -1.0203, -1.0203,  ...,  0.2052, -2.0357, -2.0357],\n",
       "          [-2.0357, -2.0357, -2.0357,  ..., -0.3025, -2.0357, -2.0357],\n",
       "          [-2.0357, -2.0357, -2.0357,  ..., -0.7402, -2.0357, -2.0357]],\n",
       " \n",
       "         [[-1.8044, -1.8044,  0.8622,  ..., -1.8044, -1.8044, -1.8044],\n",
       "          [-1.8044, -1.8044,  1.0888,  ..., -1.8044, -1.8044, -1.8044],\n",
       "          [-1.8044, -1.8044,  1.1062,  ...,  1.5942,  1.7163,  1.8383],\n",
       "          ...,\n",
       "          [-0.9156, -1.0027, -0.9156,  ...,  0.0082, -1.8044, -1.8044],\n",
       "          [-1.8044, -1.8044, -1.8044,  ..., -0.4973, -1.8044, -1.8044],\n",
       "          [-1.8044, -1.8044, -1.8044,  ..., -0.9330, -1.8044, -1.8044]]]),\n",
       " 0)"
      ]
     },
     "execution_count": 12,
     "metadata": {},
     "output_type": "execute_result"
    }
   ],
   "source": [
    "train_data[0]"
   ]
  },
  {
   "cell_type": "markdown",
   "id": "b04af09e",
   "metadata": {},
   "source": [
    "### 2.5 Visualize Data Sample"
   ]
  },
  {
   "cell_type": "code",
   "execution_count": 13,
   "id": "47570f57",
   "metadata": {},
   "outputs": [
    {
     "name": "stderr",
     "output_type": "stream",
     "text": [
      "<ipython-input-13-5e23f8b267a5>:3: UserWarning: The use of `x.T` on tensors of dimension other than 2 to reverse their shape is deprecated and it will throw an error in a future release. Consider `x.mT` to transpose batches of matricesor `x.permute(*torch.arange(x.ndim - 1, -1, -1))` to reverse the dimensions of a tensor. (Triggered internally at  C:\\actions-runner\\_work\\pytorch\\pytorch\\builder\\windows\\pytorch\\aten\\src\\ATen\\native\\TensorShape.cpp:2985.)\n",
      "  plt.imshow(image.T, cmap='gray')\n",
      "Clipping input data to the valid range for imshow with RGB data ([0..1] for floats or [0..255] for integers).\n"
     ]
    },
    {
     "name": "stdout",
     "output_type": "stream",
     "text": [
      "Image shape: torch.Size([3, 32, 32])\n"
     ]
    },
    {
     "data": {
      "text/plain": [
       "Text(0.5, 1.0, 'airplane')"
      ]
     },
     "execution_count": 13,
     "metadata": {},
     "output_type": "execute_result"
    },
    {
     "data": {
      "image/png": "[encoded data removed]",
      "text/plain": [
       "<Figure size 432x288 with 1 Axes>"
      ]
     },
     "metadata": {
      "needs_background": "light"
     },
     "output_type": "display_data"
    }
   ],
   "source": [
    "image, label = train_data[0]\n",
    "print(f\"Image shape: {image.shape}\")\n",
    "plt.imshow(image.T, cmap='gray')\n",
    "plt.title(class_names[label])"
   ]
  },
  {
   "cell_type": "code",
   "execution_count": 14,
   "id": "b4c11e2e",
   "metadata": {},
   "outputs": [
    {
     "name": "stderr",
     "output_type": "stream",
     "text": [
      "Clipping input data to the valid range for imshow with RGB data ([0..1] for floats or [0..255] for integers).\n",
      "Clipping input data to the valid range for imshow with RGB data ([0..1] for floats or [0..255] for integers).\n",
      "Clipping input data to the valid range for imshow with RGB data ([0..1] for floats or [0..255] for integers).\n",
      "Clipping input data to the valid range for imshow with RGB data ([0..1] for floats or [0..255] for integers).\n",
      "Clipping input data to the valid range for imshow with RGB data ([0..1] for floats or [0..255] for integers).\n",
      "Clipping input data to the valid range for imshow with RGB data ([0..1] for floats or [0..255] for integers).\n",
      "Clipping input data to the valid range for imshow with RGB data ([0..1] for floats or [0..255] for integers).\n",
      "Clipping input data to the valid range for imshow with RGB data ([0..1] for floats or [0..255] for integers).\n",
      "Clipping input data to the valid range for imshow with RGB data ([0..1] for floats or [0..255] for integers).\n",
      "Clipping input data to the valid range for imshow with RGB data ([0..1] for floats or [0..255] for integers).\n",
      "Clipping input data to the valid range for imshow with RGB data ([0..1] for floats or [0..255] for integers).\n",
      "Clipping input data to the valid range for imshow with RGB data ([0..1] for floats or [0..255] for integers).\n",
      "Clipping input data to the valid range for imshow with RGB data ([0..1] for floats or [0..255] for integers).\n",
      "Clipping input data to the valid range for imshow with RGB data ([0..1] for floats or [0..255] for integers).\n",
      "Clipping input data to the valid range for imshow with RGB data ([0..1] for floats or [0..255] for integers).\n",
      "Clipping input data to the valid range for imshow with RGB data ([0..1] for floats or [0..255] for integers).\n"
     ]
    },
    {
     "data": {
      "image/png": "[encoded data removed]",
      "text/plain": [
       "<Figure size 648x648 with 16 Axes>"
      ]
     },
     "metadata": {
      "needs_background": "light"
     },
     "output_type": "display_data"
    }
   ],
   "source": [
    "# Plot more images\n",
    "torch.manual_seed(42)\n",
    "fig = plt.figure(figsize=(9, 9))\n",
    "rows, cols = 4, 4\n",
    "for i in range(1, rows * cols + 1):\n",
    "    random_idx = torch.randint(0, len(test_data), size=[1]).item()\n",
    "    img, label = train_data[random_idx]\n",
    "    fig.add_subplot(rows, cols, i)\n",
    "    plt.imshow(img.T, cmap=\"gray\")\n",
    "    plt.title(class_names[label])\n",
    "    plt.axis(False);"
   ]
  },
  {
   "cell_type": "markdown",
   "id": "5650cbea",
   "metadata": {},
   "source": [
    "## 3. Model Development and Training"
   ]
  },
  {
   "cell_type": "markdown",
   "id": "b49d4662",
   "metadata": {},
   "source": [
    "### 3.1 CNN from Scratch (Baseline Model)  "
   ]
  },
  {
   "cell_type": "code",
   "execution_count": 15,
   "id": "611a7817",
   "metadata": {},
   "outputs": [],
   "source": [
    "import torch.nn as nn\n",
    "\n",
    "class ClassifierModel(nn.Module):\n",
    "    def __init__(self, input_shape: int, \n",
    "                 hidden_units: int, \n",
    "                 output_shape: int):\n",
    "        \n",
    "        super().__init__()\n",
    "        \n",
    "        self.block_1 = nn.Sequential(\n",
    "            nn.Conv2d(in_channels=input_shape, out_channels=hidden_units, kernel_size=(3,3), stride=1, padding=1),\n",
    "            nn.ReLU(),\n",
    "            nn.Conv2d(in_channels=hidden_units, out_channels=hidden_units, kernel_size=(3,3), stride=1, padding=1),\n",
    "            nn.ReLU(),\n",
    "            nn.MaxPool2d(kernel_size=(2,2), stride=2),\n",
    "        )\n",
    "    \n",
    "        self.block_2 = nn.Sequential(\n",
    "            nn.Conv2d(hidden_units, hidden_units, 3, padding=1),\n",
    "            nn.ReLU(),\n",
    "            nn.Conv2d(hidden_units, hidden_units, 3, padding=1),\n",
    "            nn.ReLU(),\n",
    "            nn.MaxPool2d(2),\n",
    "        )\n",
    "        \n",
    "        self.classsifier = nn.Sequential(\n",
    "            nn.Flatten(),\n",
    "            nn.Linear(in_features=hidden_units*8*8, out_features=output_shape)\n",
    "        )\n",
    "        \n",
    "    def forward(self, x: torch.Tensor) -> torch.Tensor:\n",
    "        x = self.block_1(x)\n",
    "        x = self.block_2(x)\n",
    "        x = self.classsifier(x)\n",
    "        return x"
   ]
  },
  {
   "cell_type": "code",
   "execution_count": 16,
   "id": "22792e38",
   "metadata": {},
   "outputs": [
    {
     "data": {
      "text/plain": [
       "ClassifierModel(\n",
       "  (block_1): Sequential(\n",
       "    (0): Conv2d(3, 10, kernel_size=(3, 3), stride=(1, 1), padding=(1, 1))\n",
       "    (1): ReLU()\n",
       "    (2): Conv2d(10, 10, kernel_size=(3, 3), stride=(1, 1), padding=(1, 1))\n",
       "    (3): ReLU()\n",
       "    (4): MaxPool2d(kernel_size=(2, 2), stride=2, padding=0, dilation=1, ceil_mode=False)\n",
       "  )\n",
       "  (block_2): Sequential(\n",
       "    (0): Conv2d(10, 10, kernel_size=(3, 3), stride=(1, 1), padding=(1, 1))\n",
       "    (1): ReLU()\n",
       "    (2): Conv2d(10, 10, kernel_size=(3, 3), stride=(1, 1), padding=(1, 1))\n",
       "    (3): ReLU()\n",
       "    (4): MaxPool2d(kernel_size=2, stride=2, padding=0, dilation=1, ceil_mode=False)\n",
       "  )\n",
       "  (classsifier): Sequential(\n",
       "    (0): Flatten(start_dim=1, end_dim=-1)\n",
       "    (1): Linear(in_features=640, out_features=10, bias=True)\n",
       "  )\n",
       ")"
      ]
     },
     "execution_count": 16,
     "metadata": {},
     "output_type": "execute_result"
    }
   ],
   "source": [
    "torch.manual_seed(42)\n",
    "torch.cuda.manual_seed(42)\n",
    "\n",
    "model = ClassifierModel(input_shape=3,\n",
    "                        hidden_units=10,\n",
    "                        output_shape=len(class_names))\n",
    "model.to(device)\n",
    "model"
   ]
  },
  {
   "cell_type": "markdown",
   "id": "7ab16be9",
   "metadata": {},
   "source": [
    "### 3.2 Core Function for Training and Evaluation Model"
   ]
  },
  {
   "cell_type": "code",
   "execution_count": 17,
   "id": "aac4b6be",
   "metadata": {},
   "outputs": [],
   "source": [
    "def print_train_time(start, end, device):\n",
    "    total_time = end - start\n",
    "    print(f\"Train time on {device}: {total_time:.3f} seconds\")\n",
    "    return total_time\n",
    "\n",
    "def accuracy_fn(y_true, y_pred):\n",
    "    correct = torch.eq(y_true, y_pred).sum().item()\n",
    "    acc = (correct / len(y_pred)) * 100\n",
    "    return acc\n",
    "\n",
    "def train_step(model: nn.Module,\n",
    "               data_loader: torch.utils.data.DataLoader,\n",
    "               optimizer: torch.optim.Optimizer,\n",
    "               loss_fn: torch.nn.Module,\n",
    "               accuracy_fn,\n",
    "               device: torch.device = device\n",
    "              ):\n",
    "    \n",
    "    model.train()\n",
    "    \n",
    "    train_acc, train_loss = 0.0, 0.0\n",
    "    \n",
    "    for batch, (X, y) in enumerate(data_loader):\n",
    "        \n",
    "        X, y = X.to(device), y.to(device)\n",
    "        \n",
    "        y_logits = model(X)\n",
    "        \n",
    "        loss = loss_fn(y_logits, y)\n",
    "        acc = accuracy_fn(y_true= y, y_pred=y_logits.argmax(dim=1))\n",
    "        \n",
    "        train_loss += loss\n",
    "        train_acc += acc\n",
    "        \n",
    "        optimizer.zero_grad()\n",
    "        \n",
    "        loss.backward()\n",
    "        \n",
    "        optimizer.step()\n",
    "    \n",
    "    train_acc /= len(data_loader)\n",
    "    train_loss /= len(data_loader)\n",
    "    \n",
    "    return train_acc, train_loss\n",
    "\n",
    "def test_step(model: torch.nn.Module,  \n",
    "              data_loader: torch.utils.data.DataLoader,\n",
    "              loss_fn: torch.nn.Module,\n",
    "              accuracy_fn,\n",
    "              device: torch.device = device):\n",
    "    model.eval()\n",
    "    \n",
    "    test_acc, test_loss = 0.0, 0.0\n",
    "    \n",
    "    with torch.inference_mode():\n",
    "        for X, y in data_loader:\n",
    "            X, y = X.to(device), y.to(device)\n",
    "            test_logits = model(X)\n",
    "            test_loss += loss_fn(test_logits, y)\n",
    "            test_acc += accuracy_fn(y_true= y, y_pred=test_logits.argmax(dim=1))\n",
    "\n",
    "        test_acc /= len(data_loader)\n",
    "        test_loss /= len(data_loader)\n",
    "    \n",
    "    return test_acc, test_loss\n",
    "\n",
    "def eval_model(model: torch.nn.Module, \n",
    "               data_loader: torch.utils.data.DataLoader,\n",
    "               loss_fn: torch.nn.Module,\n",
    "               accuracy_fn,\n",
    "               device: torch.device = device):\n",
    "    \n",
    "    eval_loss, eval_acc = 0.0, 0.0\n",
    "    \n",
    "    y_preds = []\n",
    "    \n",
    "    model.eval()\n",
    "    with torch.inference_mode():\n",
    "        for X, y in data_loader:\n",
    "            X, y = X.to(device), y.to(device)\n",
    "            eval_logits = model(X)\n",
    "            eval_loss += loss_fn(eval_logits, y)\n",
    "            eval_acc += accuracy_fn(y_true=y, y_pred=eval_logits.argmax(dim=1))\n",
    "            \n",
    "            y_pred = torch.softmax(eval_logits, dim=1).argmax(dim=1)\n",
    "            y_preds.append(y_pred.cpu())\n",
    "        \n",
    "        eval_loss /= len(data_loader)\n",
    "        eval_acc /= len(data_loader)\n",
    "        \n",
    "    \n",
    "    final_results = {'model': model.__class__.__name__,\n",
    "                     'eval loss': eval_loss.item(),\n",
    "                     'eval acc': eval_acc\n",
    "                    }\n",
    "    \n",
    "    y_pred_tensor = torch.cat(y_preds)\n",
    "    \n",
    "    \n",
    "    return final_results, y_pred_tensor\n",
    "\n",
    "def train(model: torch.nn.Module,\n",
    "         train_dataloader: torch.utils.data.DataLoader,\n",
    "         test_dataloader: torch.utils.data.DataLoader,\n",
    "         optimizer: torch.optim.Optimizer,\n",
    "         loss_fn: torch.nn.Module,\n",
    "         accuracy_fn,\n",
    "         epochs: int = 20,\n",
    "         best_test_loss: int = 3):\n",
    "    \n",
    "    train_time_start = timer()\n",
    "\n",
    "    torch.manual_seed(42)\n",
    "\n",
    "    results = {\n",
    "        'train_acc': [],\n",
    "        'train_loss': [],\n",
    "        'test_acc': [],\n",
    "        'test_loss': [],\n",
    "    }\n",
    "\n",
    "    t0 = time.time()\n",
    "\n",
    "    for epoch in tqdm(range(1, epochs + 1)):\n",
    "\n",
    "        train_acc, train_loss = train_step(model=model,\n",
    "                                            data_loader=train_dataloader,\n",
    "                                            optimizer=optimizer,\n",
    "                                            loss_fn=loss_fn,\n",
    "                                            accuracy_fn=accuracy_fn)\n",
    "\n",
    "        test_acc, test_loss = test_step(model=model,\n",
    "                                          data_loader=test_dataloader,\n",
    "                                          loss_fn=loss_fn,\n",
    "                                          accuracy_fn = accuracy_fn)\n",
    "\n",
    "        print(f'Epoch: {epoch} | Accuracy: {train_acc:.4f} | Loss: {train_loss:.4f} | Val Accuracy: {test_acc:.4f} | Val Loss: {test_loss:.4f} | Time: {(time.time() - t0):.2f}s')\n",
    "\n",
    "        results['train_acc'].append(train_acc)\n",
    "        results['train_loss'].append(train_loss.item())\n",
    "        results['test_acc'].append(test_acc)\n",
    "        results['test_loss'].append(test_loss.item())\n",
    "        \n",
    "        saved_model_path = Path('models')\n",
    "        \n",
    "        if not saved_model_path.is_dir():\n",
    "            saved_model_path.mkdir(parents=True, exist_ok=True)\n",
    "        \n",
    "        if test_loss < best_test_loss:\n",
    "            best_test_loss = test_loss\n",
    "            print(f\"\\nSaving best model for epoch: {epoch}\\n\")\n",
    "            \n",
    "            torch.save(model.state_dict(), saved_model_path / 'best_model.pth')\n",
    "    \n",
    "    torch.save(model.state_dict(), saved_model_path / 'final_model.pth')\n",
    "    \n",
    "    train_time_end = timer()\n",
    "    total_train_time_model = print_train_time(start=train_time_start,\n",
    "                                                end=train_time_end,\n",
    "                                                device=device)\n",
    "    \n",
    "    return model, results\n",
    "\n",
    "def plot_acc_loss_curves(results):\n",
    "    train_loss = results[\"train_loss\"]\n",
    "    test_loss = results[\"test_loss\"]\n",
    "\n",
    "    train_acc = results[\"train_acc\"]\n",
    "    test_acc = results[\"test_acc\"]\n",
    "\n",
    "    epochs = range(len(results[\"train_loss\"]))\n",
    "\n",
    "    plt.figure(figsize=(14, 7))\n",
    "\n",
    "    plt.subplot(1, 2, 1)\n",
    "    plt.plot(epochs, train_loss, label=\"train_loss\")\n",
    "    plt.plot(epochs, test_loss, label=\"test_loss\")\n",
    "    plt.title(\"Loss\")\n",
    "    plt.xlabel(\"Epochs\")\n",
    "    plt.legend()\n",
    "\n",
    "    plt.subplot(1, 2, 2)\n",
    "    plt.plot(epochs, train_acc, label=\"train_accuracy\")\n",
    "    plt.plot(epochs, test_acc, label=\"test_accuracy\")\n",
    "    plt.title(\"Accuracy\")\n",
    "    plt.xlabel(\"Epochs\")\n",
    "    plt.legend()\n",
    "    \n",
    "def plot_cm(y_pred_tensor: np.ndarray):\n",
    "    confmat = ConfusionMatrix(num_classes=len(class_names), task='multiclass')\n",
    "    confmat_tensor = confmat(preds=y_pred_tensor, target=torch.tensor(test_data.targets))\n",
    "\n",
    "    fig, ax = plot_confusion_matrix(\n",
    "        conf_mat=confmat_tensor.numpy(), \n",
    "        class_names=class_names,\n",
    "        figsize=(10, 7))"
   ]
  },
  {
   "cell_type": "markdown",
   "id": "e5b480c7",
   "metadata": {},
   "source": [
    "### 3.3 Setting Hyperparameters"
   ]
  },
  {
   "cell_type": "code",
   "execution_count": 18,
   "id": "c01dc278",
   "metadata": {},
   "outputs": [],
   "source": [
    "epochs = 30\n",
    "loss_fn = nn.CrossEntropyLoss()\n",
    "lr = 0.001\n",
    "optimizer = torch.optim.Adam(model.parameters(), lr=lr)"
   ]
  },
  {
   "cell_type": "markdown",
   "id": "18636ba0",
   "metadata": {},
   "source": [
    "### 3.4 Training Model 1 (CNN From Scratch)"
   ]
  },
  {
   "cell_type": "code",
   "execution_count": 19,
   "id": "4e71708a",
   "metadata": {},
   "outputs": [
    {
     "data": {
      "application/vnd.jupyter.widget-view+json": {
       "model_id": "0439df48b4d14209bcd1fde59b372cfa",
       "version_major": 2,
       "version_minor": 0
      },
      "text/plain": [
       "  0%|          | 0/30 [00:00<?, ?it/s]"
      ]
     },
     "metadata": {},
     "output_type": "display_data"
    },
    {
     "name": "stdout",
     "output_type": "stream",
     "text": [
      "Epoch: 1 | Accuracy: 17.2585 | Loss: 2.2221 | Val Accuracy: 29.0179 | Val Loss: 1.9973 | Time: 25.90s\n",
      "\n",
      "Saving best model for epoch: 1\n",
      "\n",
      "Epoch: 2 | Accuracy: 28.6222 | Loss: 1.9977 | Val Accuracy: 33.0357 | Val Loss: 1.8857 | Time: 41.63s\n",
      "\n",
      "Saving best model for epoch: 2\n",
      "\n",
      "Epoch: 3 | Accuracy: 33.5582 | Loss: 1.8722 | Val Accuracy: 32.5893 | Val Loss: 1.7274 | Time: 58.62s\n",
      "\n",
      "Saving best model for epoch: 3\n",
      "\n",
      "Epoch: 4 | Accuracy: 38.1747 | Loss: 1.7391 | Val Accuracy: 36.6071 | Val Loss: 1.7798 | Time: 74.71s\n",
      "Epoch: 5 | Accuracy: 39.4531 | Loss: 1.6950 | Val Accuracy: 40.6250 | Val Loss: 1.6272 | Time: 90.83s\n",
      "\n",
      "Saving best model for epoch: 5\n",
      "\n",
      "Epoch: 6 | Accuracy: 41.3707 | Loss: 1.6239 | Val Accuracy: 42.8571 | Val Loss: 1.6392 | Time: 106.81s\n",
      "Epoch: 7 | Accuracy: 42.6491 | Loss: 1.6003 | Val Accuracy: 41.9643 | Val Loss: 1.5346 | Time: 122.72s\n",
      "\n",
      "Saving best model for epoch: 7\n",
      "\n",
      "Epoch: 8 | Accuracy: 45.0639 | Loss: 1.5535 | Val Accuracy: 46.4286 | Val Loss: 1.4762 | Time: 138.78s\n",
      "\n",
      "Saving best model for epoch: 8\n",
      "\n",
      "Epoch: 9 | Accuracy: 45.2060 | Loss: 1.5304 | Val Accuracy: 43.7500 | Val Loss: 1.4921 | Time: 154.78s\n",
      "Epoch: 10 | Accuracy: 46.1648 | Loss: 1.4981 | Val Accuracy: 45.9821 | Val Loss: 1.4799 | Time: 171.73s\n",
      "Epoch: 11 | Accuracy: 47.2656 | Loss: 1.4774 | Val Accuracy: 44.6429 | Val Loss: 1.5018 | Time: 188.74s\n",
      "Epoch: 12 | Accuracy: 48.6506 | Loss: 1.4368 | Val Accuracy: 46.8750 | Val Loss: 1.4526 | Time: 205.83s\n",
      "\n",
      "Saving best model for epoch: 12\n",
      "\n",
      "Epoch: 13 | Accuracy: 48.3665 | Loss: 1.4297 | Val Accuracy: 47.3214 | Val Loss: 1.4566 | Time: 222.53s\n",
      "Epoch: 14 | Accuracy: 49.8580 | Loss: 1.3881 | Val Accuracy: 49.5536 | Val Loss: 1.3637 | Time: 238.83s\n",
      "\n",
      "Saving best model for epoch: 14\n",
      "\n",
      "Epoch: 15 | Accuracy: 51.1719 | Loss: 1.3623 | Val Accuracy: 50.0000 | Val Loss: 1.3891 | Time: 254.84s\n",
      "Epoch: 16 | Accuracy: 51.5270 | Loss: 1.3607 | Val Accuracy: 50.0000 | Val Loss: 1.3693 | Time: 271.08s\n",
      "Epoch: 17 | Accuracy: 52.7699 | Loss: 1.3376 | Val Accuracy: 48.6607 | Val Loss: 1.3692 | Time: 286.90s\n",
      "Epoch: 18 | Accuracy: 53.0540 | Loss: 1.3105 | Val Accuracy: 51.7857 | Val Loss: 1.3334 | Time: 302.81s\n",
      "\n",
      "Saving best model for epoch: 18\n",
      "\n",
      "Epoch: 19 | Accuracy: 52.9830 | Loss: 1.3125 | Val Accuracy: 56.2500 | Val Loss: 1.3416 | Time: 318.84s\n",
      "Epoch: 20 | Accuracy: 53.7287 | Loss: 1.2923 | Val Accuracy: 47.3214 | Val Loss: 1.4207 | Time: 334.81s\n",
      "Epoch: 21 | Accuracy: 53.8707 | Loss: 1.2809 | Val Accuracy: 53.5714 | Val Loss: 1.3067 | Time: 351.12s\n",
      "\n",
      "Saving best model for epoch: 21\n",
      "\n",
      "Epoch: 22 | Accuracy: 54.5810 | Loss: 1.2670 | Val Accuracy: 49.1071 | Val Loss: 1.3477 | Time: 368.43s\n",
      "Epoch: 23 | Accuracy: 55.2202 | Loss: 1.2504 | Val Accuracy: 46.8750 | Val Loss: 1.3616 | Time: 384.70s\n",
      "Epoch: 24 | Accuracy: 55.0071 | Loss: 1.2422 | Val Accuracy: 51.7857 | Val Loss: 1.3432 | Time: 404.21s\n",
      "Epoch: 25 | Accuracy: 56.2500 | Loss: 1.2295 | Val Accuracy: 51.3393 | Val Loss: 1.3218 | Time: 423.21s\n",
      "Epoch: 26 | Accuracy: 56.8537 | Loss: 1.2120 | Val Accuracy: 54.4643 | Val Loss: 1.2871 | Time: 441.38s\n",
      "\n",
      "Saving best model for epoch: 26\n",
      "\n",
      "Epoch: 27 | Accuracy: 56.0014 | Loss: 1.2005 | Val Accuracy: 58.9286 | Val Loss: 1.2776 | Time: 460.01s\n",
      "\n",
      "Saving best model for epoch: 27\n",
      "\n",
      "Epoch: 28 | Accuracy: 56.8182 | Loss: 1.2015 | Val Accuracy: 51.7857 | Val Loss: 1.3401 | Time: 478.83s\n",
      "Epoch: 29 | Accuracy: 58.3807 | Loss: 1.1917 | Val Accuracy: 52.6786 | Val Loss: 1.3767 | Time: 495.78s\n",
      "Epoch: 30 | Accuracy: 57.3864 | Loss: 1.1780 | Val Accuracy: 51.7857 | Val Loss: 1.3006 | Time: 512.93s\n",
      "Train time on cpu: 512.943 seconds\n"
     ]
    }
   ],
   "source": [
    "model, results = train(model=model,\n",
    "                       train_dataloader=train_dataloader,\n",
    "                       test_dataloader=test_dataloader,\n",
    "                       optimizer=optimizer,\n",
    "                       loss_fn=loss_fn,\n",
    "                       accuracy_fn=accuracy_fn,\n",
    "                       epochs= epochs)"
   ]
  },
  {
   "cell_type": "markdown",
   "id": "b8705900",
   "metadata": {},
   "source": [
    "### 3.5 Plot Accuracy and Loss"
   ]
  },
  {
   "cell_type": "code",
   "execution_count": 20,
   "id": "74ddb7bd",
   "metadata": {},
   "outputs": [
    {
     "data": {
      "image/png": "[encoded data removed]",
      "text/plain": [
       "<Figure size 1008x504 with 2 Axes>"
      ]
     },
     "metadata": {
      "needs_background": "light"
     },
     "output_type": "display_data"
    }
   ],
   "source": [
    "plot_acc_loss_curves(results)"
   ]
  },
  {
   "cell_type": "markdown",
   "id": "14dd86d6",
   "metadata": {},
   "source": [
    "## 4. Inference and Evaluate Model"
   ]
  },
  {
   "cell_type": "markdown",
   "id": "c8cfe262",
   "metadata": {},
   "source": [
    "### 4.1 Loading Best Saved Model"
   ]
  },
  {
   "cell_type": "code",
   "execution_count": 21,
   "id": "5db660f2",
   "metadata": {},
   "outputs": [
    {
     "data": {
      "text/plain": [
       "<All keys matched successfully>"
      ]
     },
     "execution_count": 21,
     "metadata": {},
     "output_type": "execute_result"
    }
   ],
   "source": [
    "loaded_model = ClassifierModel(input_shape=3, \n",
    "                               hidden_units=10, \n",
    "                               output_shape=len(class_names)).to(device)\n",
    "loaded_model.load_state_dict(torch.load('./models/best_model.pth'))"
   ]
  },
  {
   "cell_type": "markdown",
   "id": "b323cfe8",
   "metadata": {},
   "source": [
    "### 4.2 Evaluate Model"
   ]
  },
  {
   "cell_type": "code",
   "execution_count": 22,
   "id": "66ef2cb5",
   "metadata": {},
   "outputs": [
    {
     "data": {
      "text/plain": [
       "{'model': 'ClassifierModel',\n",
       " 'eval loss': 1.277642846107483,\n",
       " 'eval acc': 58.92857142857143}"
      ]
     },
     "execution_count": 22,
     "metadata": {},
     "output_type": "execute_result"
    }
   ],
   "source": [
    "model_results, model_preds = eval_model(model=loaded_model,\n",
    "                                              data_loader=test_dataloader,\n",
    "                                              loss_fn=loss_fn,\n",
    "                                              accuracy_fn=accuracy_fn)\n",
    "model_results"
   ]
  },
  {
   "cell_type": "markdown",
   "id": "1eed02c9",
   "metadata": {},
   "source": [
    "### 4.3 Plot Confusion Matrix "
   ]
  },
  {
   "cell_type": "code",
   "execution_count": 23,
   "id": "f84ff035",
   "metadata": {},
   "outputs": [
    {
     "data": {
      "image/png": "[encoded data removed]",
      "text/plain": [
       "<Figure size 720x504 with 1 Axes>"
      ]
     },
     "metadata": {
      "needs_background": "light"
     },
     "output_type": "display_data"
    }
   ],
   "source": [
    "plot_cm(model_preds)"
   ]
  },
  {
   "cell_type": "markdown",
   "id": "56b1064f",
   "metadata": {},
   "source": [
    "## 5. Export Model to Torchscript"
   ]
  },
  {
   "cell_type": "code",
   "execution_count": 24,
   "id": "5e2e5fce",
   "metadata": {},
   "outputs": [],
   "source": [
    "example = torch.rand(1, 3, 32, 32)"
   ]
  },
  {
   "cell_type": "code",
   "execution_count": 25,
   "id": "885a0dfd",
   "metadata": {},
   "outputs": [],
   "source": [
    "traced_script_module = torch.jit.trace(loaded_model, example)"
   ]
  },
  {
   "cell_type": "code",
   "execution_count": 26,
   "id": "a350a11c",
   "metadata": {},
   "outputs": [],
   "source": [
    "output = traced_script_module(torch.ones(1, 3, 32, 32))"
   ]
  },
  {
   "cell_type": "code",
   "execution_count": 27,
   "id": "5d08df66",
   "metadata": {},
   "outputs": [
    {
     "data": {
      "text/plain": [
       "tensor([-0.6335, -4.2068,  0.7270,  0.9059, -0.1733], grad_fn=<SliceBackward0>)"
      ]
     },
     "execution_count": 27,
     "metadata": {},
     "output_type": "execute_result"
    }
   ],
   "source": [
    "output[0, :5]"
   ]
  },
  {
   "cell_type": "code",
   "execution_count": 28,
   "id": "90ea9709",
   "metadata": {},
   "outputs": [],
   "source": [
    "traced_script_module.save(\"models/traced_model.pt\")"
   ]
  }
 ],
 "metadata": {
  "kernelspec": {
   "display_name": "Python 3",
   "language": "python",
   "name": "python3"
  },
  "language_info": {
   "codemirror_mode": {
    "name": "ipython",
    "version": 3
   },
   "file_extension": ".py",
   "mimetype": "text/x-python",
   "name": "python",
   "nbconvert_exporter": "python",
   "pygments_lexer": "ipython3",
   "version": "3.8.0"
  }
 },
 "nbformat": 4,
 "nbformat_minor": 5
}
